{
 "cells": [
  {
   "cell_type": "markdown",
   "id": "e907855a-a550-41b1-b116-87e4ecb5fc42",
   "metadata": {
    "tags": []
   },
   "source": [
    "\n",
    "#  Data Science tools and Ecosystem"
   ]
  },
  {
   "cell_type": "markdown",
   "id": "3e2d024d-22f0-47ab-a4ea-e2e88b0da127",
   "metadata": {},
   "source": [
    "## Author\n",
    "David Gomez Salazar "
   ]
  },
  {
   "cell_type": "markdown",
   "id": "d5b4a748-a756-4166-ad71-02730b1008c6",
   "metadata": {
    "tags": []
   },
   "source": [
    "This notebook summarizes the data science tools and ecosystem learned during this course."
   ]
  },
  {
   "cell_type": "markdown",
   "id": "70261eab-1bd1-4fc4-923d-37aa3bd0c648",
   "metadata": {
    "tags": []
   },
   "source": [
    "** Objectives:** \n",
    "- List popular languages for Data Science.\n",
    "- List commonly used by libraries.\n",
    "- List Data Science Tools.\n",
    "- Evaluate expressions.\n",
    "- Making converts.\n",
    "\n"
   ]
  },
  {
   "cell_type": "markdown",
   "id": "b8580a11-2951-4771-bad9-478f5732c8b0",
   "metadata": {
    "jp-MarkdownHeadingCollapsed": true,
    "tags": []
   },
   "source": [
    "Some of the popular languages that Data Scientists use are: \n",
    "1. Python\n",
    "2. R\n",
    "3. SQL\n",
    "\n"
   ]
  },
  {
   "cell_type": "markdown",
   "id": "fa45555d-44e6-4596-b44c-6e76cf652c69",
   "metadata": {
    "tags": []
   },
   "source": [
    "Some of the commonly used libraries used by Data Scientists include:\n",
    "1. TensorFlow\n",
    "2. Scikit-learn\n",
    "3. Apache Spark\n"
   ]
  },
  {
   "cell_type": "markdown",
   "id": "3ebe03e0-486c-462b-a22d-990b62e14184",
   "metadata": {},
   "source": [
    "\n",
    "|Data Science Tools | \n",
    "| ------ |\n",
    "| Jupyter| \n",
    "|Rstudio |\n",
    "| Apache Zappelin | "
   ]
  },
  {
   "cell_type": "markdown",
   "id": "2d92e4e8-2679-4ba7-9f23-6ad91d397c33",
   "metadata": {},
   "source": [
    "\n",
    "|Data Science Tools | \n",
    "| ------ |\n",
    "| Jupyter| \n",
    "|Rstudio |\n",
    "| Apache Zappelin | "
   ]
  },
  {
   "cell_type": "markdown",
   "id": "6b12baac-f7e3-4a41-8d60-c0ab006df9cc",
   "metadata": {
    "tags": []
   },
   "source": [
    "###  Below are a few examples of evaluating arithmetic expressions in Python\n"
   ]
  },
  {
   "cell_type": "markdown",
   "id": "6e7600ee-502f-4704-a3cc-c2abd18d0d50",
   "metadata": {},
   "source": [
    "###  Below are a few examples of evaluating arithmetic expressions in Python"
   ]
  },
  {
   "cell_type": "code",
   "execution_count": 2,
   "id": "26cf7e89-9587-4c34-b1ba-d5206d715ed3",
   "metadata": {
    "tags": []
   },
   "outputs": [
    {
     "data": {
      "text/plain": [
       "17"
      ]
     },
     "execution_count": 2,
     "metadata": {},
     "output_type": "execute_result"
    }
   ],
   "source": [
    "(3*4)+5\n",
    "#this a simple arithmetic expression to multiply then add integers\n"
   ]
  },
  {
   "cell_type": "code",
   "execution_count": 3,
   "id": "cb465c6f-0b8f-472c-a134-cc00276288f4",
   "metadata": {
    "tags": []
   },
   "outputs": [
    {
     "data": {
      "text/plain": [
       "3.3333333333333335"
      ]
     },
     "execution_count": 3,
     "metadata": {},
     "output_type": "execute_result"
    }
   ],
   "source": [
    "200*(1/60)\n",
    "#this will convert 200 minutes to hours by diviing by 60"
   ]
  },
  {
   "cell_type": "code",
   "execution_count": null,
   "id": "f546ff29-e2e5-4322-b1ad-233aa17ee8e6",
   "metadata": {},
   "outputs": [],
   "source": []
  }
 ],
 "metadata": {
  "kernelspec": {
   "display_name": "Python",
   "language": "python",
   "name": "conda-env-python-py"
  },
  "language_info": {
   "codemirror_mode": {
    "name": "ipython",
    "version": 3
   },
   "file_extension": ".py",
   "mimetype": "text/x-python",
   "name": "python",
   "nbconvert_exporter": "python",
   "pygments_lexer": "ipython3",
   "version": "3.7.12"
  }
 },
 "nbformat": 4,
 "nbformat_minor": 5
}
